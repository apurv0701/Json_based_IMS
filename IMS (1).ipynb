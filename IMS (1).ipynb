{
 "cells": [
  {
   "cell_type": "code",
   "execution_count": 47,
   "id": "f80c0b38",
   "metadata": {},
   "outputs": [],
   "source": [
    "record = {1 : {\"product\": \"5star\",\"price\":5,\"quantity\":100,\"discount\": 1,\"expiry date\": \"5/4/2023\"},\n",
    "          2 : { \"product\": \"dairy milk\",\"price\":10,\"quantity\":100,\"discount\": 2,\"expiry date\": \"15/4/2023\"}, \n",
    "          3 : { \"product\": \"kurkure\",\"price\":10,\"quantity\":100,\"discount\": 1,\"expiry date\": \"5/7/2023\"},\n",
    "          4 : { \"product\": \"lays\",\"price\":20,\"quantity\":100,\"discount\": 2,\"expiry date\": \"5/7/2023\"},\n",
    "          5 : { \"product\": \"uncle chips\",\"price\":10,\"quantity\":100,\"discount\": 1,\"expiry date\": \"5/7/2023\"},\n",
    "          6 : { \"product\": \"maggi\",\"price\":12,\"quantity\":100,\"discount\": 1,\"expiry date\": \"5/7/2023\"},\n",
    "          7 : { \"product\": \"cakes\",\"price\":25,\"quantity\":100,\"discount\": 2,\"expiry date\": \"5/7/2023\"},\n",
    "          8 : { \"product\": \"maggi\",\"price\":5,\"quantity\":100,\"discount\": 0,\"expiry date\": \"5/7/2023\"},\n",
    "          9 : { \"product\": \"Goodday\",\"price\":10,\"quantity\":100,\"discount\":1 ,\"expiry date\": \"5/7/2023\"},\n",
    "          10 : { \"product\": \"sunfeast\",\"price\":5,\"quantity\":100,\"discount\": 2,\"expiry date\": \"5/7/2023\"},\n",
    "          11: { \"product\": \"parle g\",\"price\":20,\"quantity\":100,\"discount\": 1,\"expiry date\": \"5/7/2023\"},\n",
    "          12 : { \"product\": \"oreo\",\"price\":30,\"quantity\":100,\"discount\": 2,\"expiry date\": \"5/7/2023\"},\n",
    "          13: { \"product\": \"unibic\",\"price\":30,\"quantity\":100,\"discount\": 1,\"expiry date\": \"5/7/2023\"},\n",
    "          14 : { \"product\": \"marie gold\",\"price\":10,\"quantity\":100,\"discount\": 1,\"expiry date\": \"5/7/2023\"},\n",
    "          15: { \"product\": \"hide and seek\",\"price\":30,\"quantity\":100,\"discount\": 1,\"expiry date\": \"5/7/2023\"},\n",
    "          16: { \"product\": \"kitkat\",\"price\":20,\"quantity\":100,\"discount\": 1,\"expiry date\": \"5/7/2023\"},\n",
    "          17: { \"product\": \"snickers\",\"price\":10,\"quantity\":100,\"discount\": 1,\"expiry date\": \"5/7/2023\"},\n",
    "          18: { \"product\": \"Amul chocolate\",\"price\":40,\"quantity\":100,\"discount\": 1,\"expiry date\": \"5/7/2023\"},\n",
    "          19: { \"product\": \"Pepsi\",\"price\":50,\"quantity\":100,\"discount\": 3,\"expiry date\": \"5/7/2023\"},\n",
    "          20: { \"product\": \"coca cola\",\"price\":50,\"quantity\":100,\"discount\": 1,\"expiry date\": \"5/7/2023\"},\n",
    "          21: { \"product\": \"maaza\",\"price\":50,\"quantity\":100,\"discount\": 2,\"expiry date\": \"5/7/2023\"},\n",
    "          22: { \"product\": \"slice\",\"price\":50,\"quantity\":100,\"discount\": 1,\"expiry date\": \"5/7/2023\"},\n",
    "          23: { \"product\": \"sprite\",\"price\":50,\"quantity\":100,\"discount\": 1,\"expiry date\": \"5/7/2023\"},\n",
    "          24: { \"product\": \"mountain dew\",\"price\":50,\"quantity\":100,\"discount\": 1,\"expiry date\": \"5/7/2023\"},\n",
    "          25: { \"product\": \"haldiram namkeen\",\"price\":40,\"quantity\":100,\"discount\": 2,\"expiry date\": \"5/7/2023\"},\n",
    "          26: { \"product\": \"Monaco\",\"price\":10,\"quantity\":100,\"discount\": 1,\"expiry date\": \"5/7/2023\"},\n",
    "          27: { \"product\": \"Dream lite\",\"price\":20,\"quantity\":100,\"discount\": 2,\"expiry date\": \"5/7/2023\"},\n",
    "          28: { \"product\": \"tiger Crunch\",\"price\":10,\"quantity\":100,\"discount\": 2,\"expiry date\": \"5/7/2023\"},\n",
    "          29: { \"product\": \"gems\",\"price\":10,\"quantity\":100,\"discount\": 0,\"expiry date\": \"5/7/2023\"},\n",
    "          30: { \"product\": \"center fresh\",\"price\":10,\"quantity\":100,\"discount\": 0,\"expiry date\": \"5/7/2023\"},\n",
    "         }"
   ]
  },
  {
   "cell_type": "code",
   "execution_count": 48,
   "id": "84bfaf93",
   "metadata": {},
   "outputs": [],
   "source": [
    "import json\n",
    "js = json.dumps(record)"
   ]
  },
  {
   "cell_type": "code",
   "execution_count": 49,
   "id": "6b096740",
   "metadata": {},
   "outputs": [
    {
     "data": {
      "text/plain": [
       "{1: {'product': '5star',\n",
       "  'price': 5,\n",
       "  'quantity': 100,\n",
       "  'discount': 1,\n",
       "  'expiry date': '5/4/2023'},\n",
       " 2: {'product': 'dairy milk',\n",
       "  'price': 10,\n",
       "  'quantity': 100,\n",
       "  'discount': 2,\n",
       "  'expiry date': '15/4/2023'},\n",
       " 3: {'product': 'kurkure',\n",
       "  'price': 10,\n",
       "  'quantity': 100,\n",
       "  'discount': 1,\n",
       "  'expiry date': '5/7/2023'},\n",
       " 4: {'product': 'lays',\n",
       "  'price': 20,\n",
       "  'quantity': 100,\n",
       "  'discount': 2,\n",
       "  'expiry date': '5/7/2023'},\n",
       " 5: {'product': 'uncle chips',\n",
       "  'price': 10,\n",
       "  'quantity': 100,\n",
       "  'discount': 1,\n",
       "  'expiry date': '5/7/2023'},\n",
       " 6: {'product': 'maggi',\n",
       "  'price': 12,\n",
       "  'quantity': 100,\n",
       "  'discount': 1,\n",
       "  'expiry date': '5/7/2023'},\n",
       " 7: {'product': 'cakes',\n",
       "  'price': 25,\n",
       "  'quantity': 100,\n",
       "  'discount': 2,\n",
       "  'expiry date': '5/7/2023'},\n",
       " 8: {'product': 'maggi',\n",
       "  'price': 5,\n",
       "  'quantity': 100,\n",
       "  'discount': 0,\n",
       "  'expiry date': '5/7/2023'},\n",
       " 9: {'product': 'Goodday',\n",
       "  'price': 10,\n",
       "  'quantity': 100,\n",
       "  'discount': 1,\n",
       "  'expiry date': '5/7/2023'},\n",
       " 10: {'product': 'sunfeast',\n",
       "  'price': 5,\n",
       "  'quantity': 100,\n",
       "  'discount': 2,\n",
       "  'expiry date': '5/7/2023'},\n",
       " 11: {'product': 'parle g',\n",
       "  'price': 20,\n",
       "  'quantity': 100,\n",
       "  'discount': 1,\n",
       "  'expiry date': '5/7/2023'},\n",
       " 12: {'product': 'oreo',\n",
       "  'price': 30,\n",
       "  'quantity': 100,\n",
       "  'discount': 2,\n",
       "  'expiry date': '5/7/2023'},\n",
       " 13: {'product': 'unibic',\n",
       "  'price': 30,\n",
       "  'quantity': 100,\n",
       "  'discount': 1,\n",
       "  'expiry date': '5/7/2023'},\n",
       " 14: {'product': 'marie gold',\n",
       "  'price': 10,\n",
       "  'quantity': 100,\n",
       "  'discount': 1,\n",
       "  'expiry date': '5/7/2023'},\n",
       " 15: {'product': 'hide and seek',\n",
       "  'price': 30,\n",
       "  'quantity': 100,\n",
       "  'discount': 1,\n",
       "  'expiry date': '5/7/2023'},\n",
       " 16: {'product': 'kitkat',\n",
       "  'price': 20,\n",
       "  'quantity': 100,\n",
       "  'discount': 1,\n",
       "  'expiry date': '5/7/2023'},\n",
       " 17: {'product': 'snickers',\n",
       "  'price': 10,\n",
       "  'quantity': 100,\n",
       "  'discount': 1,\n",
       "  'expiry date': '5/7/2023'},\n",
       " 18: {'product': 'Amul chocolate',\n",
       "  'price': 40,\n",
       "  'quantity': 100,\n",
       "  'discount': 1,\n",
       "  'expiry date': '5/7/2023'},\n",
       " 19: {'product': 'Pepsi',\n",
       "  'price': 50,\n",
       "  'quantity': 100,\n",
       "  'discount': 3,\n",
       "  'expiry date': '5/7/2023'},\n",
       " 20: {'product': 'coca cola',\n",
       "  'price': 50,\n",
       "  'quantity': 100,\n",
       "  'discount': 1,\n",
       "  'expiry date': '5/7/2023'},\n",
       " 21: {'product': 'maaza',\n",
       "  'price': 50,\n",
       "  'quantity': 100,\n",
       "  'discount': 2,\n",
       "  'expiry date': '5/7/2023'},\n",
       " 22: {'product': 'slice',\n",
       "  'price': 50,\n",
       "  'quantity': 100,\n",
       "  'discount': 1,\n",
       "  'expiry date': '5/7/2023'},\n",
       " 23: {'product': 'sprite',\n",
       "  'price': 50,\n",
       "  'quantity': 100,\n",
       "  'discount': 1,\n",
       "  'expiry date': '5/7/2023'},\n",
       " 24: {'product': 'mountain dew',\n",
       "  'price': 50,\n",
       "  'quantity': 100,\n",
       "  'discount': 1,\n",
       "  'expiry date': '5/7/2023'},\n",
       " 25: {'product': 'haldiram namkeen',\n",
       "  'price': 40,\n",
       "  'quantity': 100,\n",
       "  'discount': 2,\n",
       "  'expiry date': '5/7/2023'},\n",
       " 26: {'product': 'Monaco',\n",
       "  'price': 10,\n",
       "  'quantity': 100,\n",
       "  'discount': 1,\n",
       "  'expiry date': '5/7/2023'},\n",
       " 27: {'product': 'Dream lite',\n",
       "  'price': 20,\n",
       "  'quantity': 100,\n",
       "  'discount': 2,\n",
       "  'expiry date': '5/7/2023'},\n",
       " 28: {'product': 'tiger Crunch',\n",
       "  'price': 10,\n",
       "  'quantity': 100,\n",
       "  'discount': 2,\n",
       "  'expiry date': '5/7/2023'},\n",
       " 29: {'product': 'gems',\n",
       "  'price': 10,\n",
       "  'quantity': 100,\n",
       "  'discount': 0,\n",
       "  'expiry date': '5/7/2023'},\n",
       " 30: {'product': 'center fresh',\n",
       "  'price': 10,\n",
       "  'quantity': 100,\n",
       "  'discount': 0,\n",
       "  'expiry date': '5/7/2023'}}"
      ]
     },
     "execution_count": 49,
     "metadata": {},
     "output_type": "execute_result"
    }
   ],
   "source": [
    "record"
   ]
  },
  {
   "cell_type": "code",
   "execution_count": 9,
   "id": "f6d5b5b3",
   "metadata": {},
   "outputs": [],
   "source": [
    "fd = open(\"record.json\",'w')\n",
    "fd.write(js)\n",
    "fd.close()"
   ]
  },
  {
   "cell_type": "code",
   "execution_count": 28,
   "id": "59ce3238",
   "metadata": {},
   "outputs": [
    {
     "data": {
      "text/plain": [
       "{1: {'product': '5star',\n",
       "  'price': 5,\n",
       "  'quantity': 100,\n",
       "  'discount': 1,\n",
       "  'expiry date': '5/4/2023'},\n",
       " 2: {'product': 'dairy milk',\n",
       "  'price': 15,\n",
       "  'quantity': 100,\n",
       "  'discount': 2,\n",
       "  'expiry date': '15/4/2023'},\n",
       " 3: {'product': 'Silk',\n",
       "  'price': 50,\n",
       "  'quantity': 100,\n",
       "  'discount': 4,\n",
       "  'expiry date': '5/7/2023'}}"
      ]
     },
     "execution_count": 28,
     "metadata": {},
     "output_type": "execute_result"
    }
   ],
   "source": [
    "record"
   ]
  },
  {
   "cell_type": "code",
   "execution_count": 50,
   "id": "eb0cd30f",
   "metadata": {},
   "outputs": [
    {
     "name": "stdout",
     "output_type": "stream",
     "text": [
      "Enter Prodct Id :31\n",
      "enter product:hello\n",
      "Enter MRP of product:90\n",
      "Enter quantity:10\n",
      "Enter Discount:8\n",
      "enter expiry date of product:6/4/2022\n"
     ]
    }
   ],
   "source": [
    "product_id = input(\"Enter Prodct Id :\")\n",
    "product = (input(\"enter product:\"))\n",
    "price = int (input(\"Enter MRP of product:\"))\n",
    "quantity = int (input (\"Enter quantity:\"))\n",
    "discount = int (input(\"Enter Discount:\"))\n",
    "expiry_date =  input (\"enter expiry date of product:\")"
   ]
  },
  {
   "cell_type": "code",
   "execution_count": 53,
   "id": "13153768",
   "metadata": {},
   "outputs": [],
   "source": [
    "record[product_id] = {\"product\":product,\"price\":price,\"quantity\":quantity,\"discount\":discount,\"expiry_date\":expiry_date}\n",
    "js = json.dumps(record)\n",
    "fd = open (\"record.json\",\"w\")\n",
    "fd.write(js)\n",
    "fd.close()"
   ]
  },
  {
   "cell_type": "code",
   "execution_count": 54,
   "id": "2b54fab8",
   "metadata": {},
   "outputs": [
    {
     "data": {
      "text/plain": [
       "{1: {'product': '5star',\n",
       "  'price': 5,\n",
       "  'quantity': 100,\n",
       "  'discount': 1,\n",
       "  'expiry date': '5/4/2023'},\n",
       " 2: {'product': 'dairy milk',\n",
       "  'price': 10,\n",
       "  'quantity': 100,\n",
       "  'discount': 2,\n",
       "  'expiry date': '15/4/2023'},\n",
       " 3: {'product': 'kurkure',\n",
       "  'price': 10,\n",
       "  'quantity': 100,\n",
       "  'discount': 1,\n",
       "  'expiry date': '5/7/2023'},\n",
       " 4: {'product': 'lays',\n",
       "  'price': 20,\n",
       "  'quantity': 100,\n",
       "  'discount': 2,\n",
       "  'expiry date': '5/7/2023'},\n",
       " 5: {'product': 'uncle chips',\n",
       "  'price': 10,\n",
       "  'quantity': 100,\n",
       "  'discount': 1,\n",
       "  'expiry date': '5/7/2023'},\n",
       " 6: {'product': 'maggi',\n",
       "  'price': 12,\n",
       "  'quantity': 100,\n",
       "  'discount': 1,\n",
       "  'expiry date': '5/7/2023'},\n",
       " 7: {'product': 'cakes',\n",
       "  'price': 25,\n",
       "  'quantity': 100,\n",
       "  'discount': 2,\n",
       "  'expiry date': '5/7/2023'},\n",
       " 8: {'product': 'maggi',\n",
       "  'price': 5,\n",
       "  'quantity': 100,\n",
       "  'discount': 0,\n",
       "  'expiry date': '5/7/2023'},\n",
       " 9: {'product': 'Goodday',\n",
       "  'price': 10,\n",
       "  'quantity': 100,\n",
       "  'discount': 1,\n",
       "  'expiry date': '5/7/2023'},\n",
       " 10: {'product': 'sunfeast',\n",
       "  'price': 5,\n",
       "  'quantity': 100,\n",
       "  'discount': 2,\n",
       "  'expiry date': '5/7/2023'},\n",
       " 11: {'product': 'parle g',\n",
       "  'price': 20,\n",
       "  'quantity': 100,\n",
       "  'discount': 1,\n",
       "  'expiry date': '5/7/2023'},\n",
       " 12: {'product': 'oreo',\n",
       "  'price': 30,\n",
       "  'quantity': 100,\n",
       "  'discount': 2,\n",
       "  'expiry date': '5/7/2023'},\n",
       " 13: {'product': 'unibic',\n",
       "  'price': 30,\n",
       "  'quantity': 100,\n",
       "  'discount': 1,\n",
       "  'expiry date': '5/7/2023'},\n",
       " 14: {'product': 'marie gold',\n",
       "  'price': 10,\n",
       "  'quantity': 100,\n",
       "  'discount': 1,\n",
       "  'expiry date': '5/7/2023'},\n",
       " 15: {'product': 'hide and seek',\n",
       "  'price': 30,\n",
       "  'quantity': 100,\n",
       "  'discount': 1,\n",
       "  'expiry date': '5/7/2023'},\n",
       " 16: {'product': 'kitkat',\n",
       "  'price': 20,\n",
       "  'quantity': 100,\n",
       "  'discount': 1,\n",
       "  'expiry date': '5/7/2023'},\n",
       " 17: {'product': 'snickers',\n",
       "  'price': 10,\n",
       "  'quantity': 100,\n",
       "  'discount': 1,\n",
       "  'expiry date': '5/7/2023'},\n",
       " 18: {'product': 'Amul chocolate',\n",
       "  'price': 40,\n",
       "  'quantity': 100,\n",
       "  'discount': 1,\n",
       "  'expiry date': '5/7/2023'},\n",
       " 19: {'product': 'Pepsi',\n",
       "  'price': 50,\n",
       "  'quantity': 100,\n",
       "  'discount': 3,\n",
       "  'expiry date': '5/7/2023'},\n",
       " 20: {'product': 'coca cola',\n",
       "  'price': 50,\n",
       "  'quantity': 100,\n",
       "  'discount': 1,\n",
       "  'expiry date': '5/7/2023'},\n",
       " 21: {'product': 'maaza',\n",
       "  'price': 50,\n",
       "  'quantity': 100,\n",
       "  'discount': 2,\n",
       "  'expiry date': '5/7/2023'},\n",
       " 22: {'product': 'slice',\n",
       "  'price': 50,\n",
       "  'quantity': 100,\n",
       "  'discount': 1,\n",
       "  'expiry date': '5/7/2023'},\n",
       " 23: {'product': 'sprite',\n",
       "  'price': 50,\n",
       "  'quantity': 100,\n",
       "  'discount': 1,\n",
       "  'expiry date': '5/7/2023'},\n",
       " 24: {'product': 'mountain dew',\n",
       "  'price': 50,\n",
       "  'quantity': 100,\n",
       "  'discount': 1,\n",
       "  'expiry date': '5/7/2023'},\n",
       " 25: {'product': 'haldiram namkeen',\n",
       "  'price': 40,\n",
       "  'quantity': 100,\n",
       "  'discount': 2,\n",
       "  'expiry date': '5/7/2023'},\n",
       " 26: {'product': 'Monaco',\n",
       "  'price': 10,\n",
       "  'quantity': 100,\n",
       "  'discount': 1,\n",
       "  'expiry date': '5/7/2023'},\n",
       " 27: {'product': 'Dream lite',\n",
       "  'price': 20,\n",
       "  'quantity': 100,\n",
       "  'discount': 2,\n",
       "  'expiry date': '5/7/2023'},\n",
       " 28: {'product': 'tiger Crunch',\n",
       "  'price': 10,\n",
       "  'quantity': 100,\n",
       "  'discount': 2,\n",
       "  'expiry date': '5/7/2023'},\n",
       " 29: {'product': 'gems',\n",
       "  'price': 10,\n",
       "  'quantity': 100,\n",
       "  'discount': 0,\n",
       "  'expiry date': '5/7/2023'},\n",
       " 30: {'product': 'center fresh',\n",
       "  'price': 10,\n",
       "  'quantity': 100,\n",
       "  'discount': 0,\n",
       "  'expiry date': '5/7/2023'},\n",
       " '31': {'product': 'hello',\n",
       "  'price': 90,\n",
       "  'quantity': 10,\n",
       "  'discount': 8,\n",
       "  'expiry_date': '6/4/2022'}}"
      ]
     },
     "execution_count": 54,
     "metadata": {},
     "output_type": "execute_result"
    }
   ],
   "source": [
    "record"
   ]
  },
  {
   "cell_type": "code",
   "execution_count": 35,
   "id": "72b9b902",
   "metadata": {},
   "outputs": [
    {
     "name": "stdout",
     "output_type": "stream",
     "text": [
      "enter product id:4\n",
      "enter the quantity:10\n"
     ]
    }
   ],
   "source": [
    "ui_product = input(\"enter product id:\")\n",
    "ui_quantity = int (input(\"enter the quantity:\"))"
   ]
  },
  {
   "cell_type": "code",
   "execution_count": 39,
   "id": "be811eb5",
   "metadata": {},
   "outputs": [
    {
     "name": "stdout",
     "output_type": "stream",
     "text": [
      "product: munch\n",
      "total quantity: 10\n",
      "price: 20\n",
      "discount: 2\n",
      "expiry_date: 1/2/2024\n",
      "date and time: Mon Sep  6 18:19:25 2021\n",
      "billing amount 196.0\n"
     ]
    }
   ],
   "source": [
    "print(\"product:\",record[ui_product][\"product\"])\n",
    "print(\"total quantity:\",ui_quantity)\n",
    "print(\"price:\",record[ui_product][\"price\"])\n",
    "print(\"discount:\",record[ui_product][\"discount\"])\n",
    "print(\"expiry_date:\",record[ui_product][\"expiry_date\"])\n",
    "import time \n",
    "time = time.ctime()\n",
    "print(\"date and time:\",time)\n",
    "print(\"billing amount\",(record[ui_product]['price']-record[ui_product]['price']*discount/100)*ui_quantity)"
   ]
  },
  {
   "cell_type": "raw",
   "id": "c041a10d",
   "metadata": {},
   "source": []
  },
  {
   "cell_type": "code",
   "execution_count": 40,
   "id": "9671b491",
   "metadata": {},
   "outputs": [],
   "source": [
    "record[ui_product][\"quantity\"]= record[ui_product][\"quantity\"]-ui_quantity "
   ]
  },
  {
   "cell_type": "code",
   "execution_count": 41,
   "id": "29eaaee9",
   "metadata": {},
   "outputs": [
    {
     "name": "stdout",
     "output_type": "stream",
     "text": [
      "90\n"
     ]
    }
   ],
   "source": [
    "print(record[ui_product][\"quantity\"])"
   ]
  },
  {
   "cell_type": "code",
   "execution_count": 43,
   "id": "9f8efd50",
   "metadata": {},
   "outputs": [],
   "source": [
    "js = json.dumps(record)\n",
    "fd = open(\"record.json\",\"w\")\n",
    "fd.write(js)\n",
    "fd.close()"
   ]
  },
  {
   "cell_type": "code",
   "execution_count": 44,
   "id": "f3a6908d",
   "metadata": {},
   "outputs": [
    {
     "data": {
      "text/plain": [
       "{1: {'product': '5star',\n",
       "  'price': 5,\n",
       "  'quantity': 100,\n",
       "  'discount': 1,\n",
       "  'expiry date': '5/4/2023'},\n",
       " 2: {'product': 'dairy milk',\n",
       "  'price': 15,\n",
       "  'quantity': 100,\n",
       "  'discount': 2,\n",
       "  'expiry date': '15/4/2023'},\n",
       " 3: {'product': 'Silk',\n",
       "  'price': 50,\n",
       "  'quantity': 100,\n",
       "  'discount': 4,\n",
       "  'expiry date': '5/7/2023'},\n",
       " '4': {'product': 'munch',\n",
       "  'price': 20,\n",
       "  'quantity': 90,\n",
       "  'discount': 2,\n",
       "  'expiry_date': '1/2/2024'}}"
      ]
     },
     "execution_count": 44,
     "metadata": {},
     "output_type": "execute_result"
    }
   ],
   "source": [
    "record"
   ]
  },
  {
   "cell_type": "markdown",
   "id": "a0ac073a",
   "metadata": {},
   "source": [
    "Sales Product"
   ]
  },
  {
   "cell_type": "code",
   "execution_count": 46,
   "id": "4386c25d",
   "metadata": {},
   "outputs": [
    {
     "data": {
      "text/plain": [
       "{'product': '4', 'quantity': 10, 'billing_amount': 196.0}"
      ]
     },
     "execution_count": 46,
     "metadata": {},
     "output_type": "execute_result"
    }
   ],
   "source": [
    "{\"product\": ui_product,\"quantity\":ui_quantity,'billing_amount':(record[ui_product]['price']-record[ui_product]['price']*discount/100)*ui_quantity}"
   ]
  },
  {
   "cell_type": "code",
   "execution_count": null,
   "id": "36f0a7e1",
   "metadata": {},
   "outputs": [],
   "source": []
  },
  {
   "cell_type": "code",
   "execution_count": null,
   "id": "71f1dc3d",
   "metadata": {},
   "outputs": [],
   "source": []
  },
  {
   "cell_type": "code",
   "execution_count": null,
   "id": "4cbe5a46",
   "metadata": {},
   "outputs": [],
   "source": []
  },
  {
   "cell_type": "code",
   "execution_count": null,
   "id": "309fe620",
   "metadata": {},
   "outputs": [],
   "source": []
  },
  {
   "cell_type": "code",
   "execution_count": null,
   "id": "864794a9",
   "metadata": {},
   "outputs": [],
   "source": []
  },
  {
   "cell_type": "code",
   "execution_count": null,
   "id": "6c120f40",
   "metadata": {},
   "outputs": [],
   "source": []
  },
  {
   "cell_type": "code",
   "execution_count": null,
   "id": "618e37e7",
   "metadata": {},
   "outputs": [],
   "source": []
  },
  {
   "cell_type": "code",
   "execution_count": null,
   "id": "731fd761",
   "metadata": {},
   "outputs": [],
   "source": []
  },
  {
   "cell_type": "code",
   "execution_count": null,
   "id": "5113043e",
   "metadata": {},
   "outputs": [],
   "source": []
  },
  {
   "cell_type": "code",
   "execution_count": null,
   "id": "e707d511",
   "metadata": {},
   "outputs": [],
   "source": []
  },
  {
   "cell_type": "code",
   "execution_count": null,
   "id": "4b47aad6",
   "metadata": {},
   "outputs": [],
   "source": []
  },
  {
   "cell_type": "code",
   "execution_count": null,
   "id": "7d4d58c2",
   "metadata": {},
   "outputs": [],
   "source": []
  }
 ],
 "metadata": {
  "kernelspec": {
   "display_name": "Python 3",
   "language": "python",
   "name": "python3"
  },
  "language_info": {
   "codemirror_mode": {
    "name": "ipython",
    "version": 3
   },
   "file_extension": ".py",
   "mimetype": "text/x-python",
   "name": "python",
   "nbconvert_exporter": "python",
   "pygments_lexer": "ipython3",
   "version": "3.8.8"
  }
 },
 "nbformat": 4,
 "nbformat_minor": 5
}
